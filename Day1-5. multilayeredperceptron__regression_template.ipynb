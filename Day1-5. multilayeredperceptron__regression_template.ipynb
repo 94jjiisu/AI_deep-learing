{
 "cells": [
  {
   "cell_type": "markdown",
   "metadata": {},
   "source": [
    "## DNN Function Approximation Forward Pass 구현"
   ]
  },
  {
   "cell_type": "markdown",
   "metadata": {},
   "source": [
    "### 라이브러리 임포트"
   ]
  },
  {
   "cell_type": "code",
   "execution_count": null,
   "metadata": {},
   "outputs": [],
   "source": [
    "import numpy as np\n",
    "import matplotlib.pyplot as plt"
   ]
  },
  {
   "cell_type": "markdown",
   "metadata": {},
   "source": [
    "#### Q. Activation Function을 정의하시오"
   ]
  },
  {
   "cell_type": "code",
   "execution_count": null,
   "metadata": {},
   "outputs": [],
   "source": [
    "# Sigmoid Activation Function\n",
    "def activation_1(n):\n",
    "    # your code\n",
    "    return x\n",
    "\n",
    "# Identity Activation Function\n",
    "def activation_2(n):\n",
    "    # your code\n",
    "    return x"
   ]
  },
  {
   "cell_type": "markdown",
   "metadata": {},
   "source": [
    "#### Q. 가중치와 편향을 정의하시오"
   ]
  },
  {
   "cell_type": "code",
   "execution_count": null,
   "metadata": {},
   "outputs": [],
   "source": [
    "p = np.arange(-2, 2, 0.01)\n",
    "p = p[np.newaxis, : ] # 입력 데이터는 (1, 400) 형태\n",
    "\n",
    "W1 = # your code\n",
    "b1 = # your code\n",
    "\n",
    "W2 = # your code\n",
    "b2 = # your code"
   ]
  },
  {
   "cell_type": "markdown",
   "metadata": {},
   "source": [
    "#### Q. Forward Pass를 구현하시오."
   ]
  },
  {
   "cell_type": "code",
   "execution_count": null,
   "metadata": {},
   "outputs": [],
   "source": [
    "# forward pass를 구현하시오 (Hint : np.dot 사용)\n",
    "a1 = # your code\n",
    "a2 = # your code\n",
    "\n",
    "plt.plot(p.flatten(), a2.flatten())\n",
    "plt.axis([-2, 2, -1, 3])\n",
    "plt.show()"
   ]
  }
 ],
 "metadata": {
  "kernelspec": {
   "display_name": "TensorFlow CPU",
   "language": "python",
   "name": "tesorflow2.0"
  },
  "language_info": {
   "codemirror_mode": {
    "name": "ipython",
    "version": 3
   },
   "file_extension": ".py",
   "mimetype": "text/x-python",
   "name": "python",
   "nbconvert_exporter": "python",
   "pygments_lexer": "ipython3",
   "version": "3.7.6"
  }
 },
 "nbformat": 4,
 "nbformat_minor": 2
}
