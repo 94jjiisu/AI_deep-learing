{
  "nbformat": 4,
  "nbformat_minor": 0,
  "metadata": {
    "accelerator": "GPU",
    "colab": {
      "name": "실습5. cnn_deepdream.ipynb",
      "provenance": [],
      "private_outputs": true,
      "collapsed_sections": [],
      "toc_visible": true
    },
    "kernelspec": {
      "display_name": "Python 3",
      "language": "python",
      "name": "python3"
    },
    "language_info": {
      "codemirror_mode": {
        "name": "ipython",
        "version": 3
      },
      "file_extension": ".py",
      "mimetype": "text/x-python",
      "name": "python",
      "nbconvert_exporter": "python",
      "pygments_lexer": "ipython3",
      "version": "3.7.4"
    }
  },
  "cells": [
    {
      "cell_type": "markdown",
      "metadata": {
        "colab_type": "text",
        "id": "dCMqzy7BNbG9"
      },
      "source": [
        "# 딥드림 (DeepDream)"
      ]
    },
    {
      "cell_type": "code",
      "metadata": {
        "colab_type": "code",
        "id": "Sc5Yq_Rgxreb",
        "colab": {}
      },
      "source": [
        "import tensorflow as tf"
      ],
      "execution_count": null,
      "outputs": []
    },
    {
      "cell_type": "code",
      "metadata": {
        "colab_type": "code",
        "id": "g_Qp173_NbG5",
        "colab": {}
      },
      "source": [
        "import numpy as np\n",
        "\n",
        "import matplotlib as mpl\n",
        "\n",
        "import IPython.display as display\n",
        "import PIL.Image\n",
        "\n",
        "from tensorflow.keras.preprocessing import image"
      ],
      "execution_count": null,
      "outputs": []
    },
    {
      "cell_type": "markdown",
      "metadata": {
        "colab_type": "text",
        "id": "wgeIJg82NbG4"
      },
      "source": [
        "#### DeepDream을 적용할 이미지 선택"
      ]
    },
    {
      "cell_type": "code",
      "metadata": {
        "colab_type": "code",
        "id": "0lclzk9sNbG2",
        "colab": {}
      },
      "source": [
        "url = 'https://storage.googleapis.com/download.tensorflow.org/example_images/YellowLabradorLooking_new.jpg'"
      ],
      "execution_count": null,
      "outputs": []
    },
    {
      "cell_type": "code",
      "metadata": {
        "colab_type": "code",
        "id": "Y5BPgc8NNbG0",
        "colab": {}
      },
      "source": [
        "# 이미지를 다운로드해서 NumPy array로 읽기\n",
        "def download(url, max_dim=None):\n",
        "    name = url.split('/')[-1]\n",
        "    image_path = tf.keras.utils.get_file(name, origin=url)\n",
        "    img = PIL.Image.open(image_path)\n",
        "    if max_dim:\n",
        "      img.thumbnail((max_dim, max_dim))\n",
        "    return np.array(img)\n",
        "\n",
        "# [-1,1] 구간의 이미지를 [0,255] 이미지로 복구\n",
        "def deprocess(img):\n",
        "    img = 255*(img + 1.0)/2.0\n",
        "    return tf.cast(img, tf.uint8)\n",
        "\n",
        "# 이미지를 화면에 출력\n",
        "def show(img):\n",
        "    display.display(PIL.Image.fromarray(np.array(img)))\n",
        "\n",
        "\n",
        "# 이미지를 작업하기 편하게 크기를 줄임\n",
        "original_img = download(url, max_dim=500)\n",
        "display.display(display.HTML('Image cc-by: <a \"href=https://commons.wikimedia.org/wiki/File:Felis_catus-cat_on_snow.jpg\">Von.grzanka</a>'))"
      ],
      "execution_count": null,
      "outputs": []
    },
    {
      "cell_type": "markdown",
      "metadata": {
        "colab_type": "text",
        "id": "F4RBFfIWNbG0"
      },
      "source": [
        "## 특징을 추출할 베이스 모델 선택"
      ]
    },
    {
      "cell_type": "code",
      "metadata": {
        "colab_type": "code",
        "id": "GlLi48GKNbGy",
        "colab": {}
      },
      "source": [
        "base_model = tf.keras.applications.InceptionV3(include_top=False, weights='imagenet')"
      ],
      "execution_count": null,
      "outputs": []
    },
    {
      "cell_type": "code",
      "metadata": {
        "colab_type": "code",
        "id": "08KB502ONbGt",
        "colab": {}
      },
      "source": [
        "# 아래 지정된 계층의 출력을 최대화함\n",
        "names = ['mixed3', 'mixed5']\n",
        "layers = [base_model.get_layer(name).output for name in names]\n",
        "\n",
        "# 특징을 추출하기 위한 모델 생성\n",
        "dream_model = tf.keras.Model(inputs=base_model.input, outputs=layers)"
      ],
      "execution_count": null,
      "outputs": []
    },
    {
      "cell_type": "markdown",
      "metadata": {
        "colab_type": "text",
        "id": "sb7u31B4NbGt"
      },
      "source": [
        "## Loss 계산"
      ]
    },
    {
      "cell_type": "code",
      "metadata": {
        "colab_type": "code",
        "id": "8MhfSweXXiuq",
        "colab": {}
      },
      "source": [
        "def calc_loss(img, model):\n",
        "    img_batch = tf.expand_dims(img, axis=0) # 이미지를 배치 형태로 변경 (배치 크기=1)\n",
        "    layer_activations = model(img_batch)    # 모델 실행\n",
        "\n",
        "    if len(layer_activations) == 1: # 선택한 계층이 하나인 경우 리스트로 만들어 줌\n",
        "        layer_activations = [layer_activations]\n",
        "\n",
        "    losses = []\n",
        "    for act in layer_activations:\n",
        "        loss = tf.math.reduce_mean(act)      # 각 계층 별 출력의 평균 계산\n",
        "        losses.append(loss)\n",
        "\n",
        "    return  tf.reduce_sum(losses)          # 계산된 loss를 합산"
      ],
      "execution_count": null,
      "outputs": []
    },
    {
      "cell_type": "markdown",
      "metadata": {
        "colab_type": "text",
        "id": "k4TCNsAUO9kI"
      },
      "source": [
        "## DeepDream 정의"
      ]
    },
    {
      "cell_type": "code",
      "metadata": {
        "colab_type": "code",
        "id": "qRScWg_VNqvj",
        "colab": {}
      },
      "source": [
        "class DeepDream(tf.Module):\n",
        "    def __init__(self, model):\n",
        "        self.model = model\n",
        "\n",
        "    @tf.function(\n",
        "      input_signature=(\n",
        "        tf.TensorSpec(shape=[None,None,3], dtype=tf.float32),\n",
        "        tf.TensorSpec(shape=[], dtype=tf.int32),\n",
        "        tf.TensorSpec(shape=[], dtype=tf.float32),)\n",
        "    )\n",
        "    def __call__(self, img, steps, step_size):\n",
        "        print(\"Tracing\")\n",
        "        loss = tf.constant(0.0)\n",
        "        for n in tf.range(steps):\n",
        "            # 계층 별 Loss 계산\n",
        "            with tf.GradientTape() as tape:\n",
        "                # 이미지에 대해 Gradient Ascent해야 하므로 Gradient Tape이 이미지를 보도록 설정\n",
        "                tape.watch(img) \n",
        "                loss = calc_loss(img, self.model)\n",
        "\n",
        "            # 이미지에 대해 Gradient 계산\n",
        "            gradients = tape.gradient(loss, img)\n",
        "\n",
        "            # Gradient를 Normalize\n",
        "            gradients /= tf.math.reduce_std(gradients) + 1e-8 \n",
        "\n",
        "            # 이미지에 대해 Gradient Ascent\n",
        "            # 지정된 계층의 출력이 커지면 Loss도 커지게 됨\n",
        "            img = img + gradients*step_size\n",
        "            img = tf.clip_by_value(img, -1, 1)  # pixel 값 clipping\n",
        "        return loss, img"
      ],
      "execution_count": null,
      "outputs": []
    },
    {
      "cell_type": "markdown",
      "metadata": {
        "id": "fTDgl8rvurQ9",
        "colab_type": "text"
      },
      "source": [
        "#### DeepDream 객체 생성"
      ]
    },
    {
      "cell_type": "code",
      "metadata": {
        "colab_type": "code",
        "id": "yB9pTqn6xfuK",
        "colab": {}
      },
      "source": [
        "deepdream = DeepDream(dream_model)"
      ],
      "execution_count": null,
      "outputs": []
    },
    {
      "cell_type": "markdown",
      "metadata": {
        "colab_type": "text",
        "id": "XLArRTVHZFAi"
      },
      "source": [
        "## DeepDream 실행"
      ]
    },
    {
      "cell_type": "code",
      "metadata": {
        "colab_type": "code",
        "id": "9vHEcy7dTysi",
        "colab": {}
      },
      "source": [
        "def run_deep_dream_simple(img, steps=100, step_size=0.01):\n",
        "    # uint8을 model의 입력 범위로 변환\n",
        "    img = tf.keras.applications.inception_v3.preprocess_input(img)\n",
        "    img = tf.convert_to_tensor(img) # img를 Tensor로 변환\n",
        "    step_size = tf.convert_to_tensor(step_size) # step_size를 Tensor로 변환\n",
        "    \n",
        "    steps_remaining = steps # 남은 실행 회수\n",
        "    step = 0 # 실제 실행한 회수\n",
        "    while steps_remaining:\n",
        "        if steps_remaining>100:\n",
        "            run_steps = tf.constant(100) # deepdeam 실행 회수 (최대 100씩 실행)\n",
        "        else:\n",
        "            run_steps = tf.constant(steps_remaining) # 100이하면 남은 회수 만큼 실행\n",
        "        steps_remaining -= run_steps\n",
        "        step += run_steps\n",
        "\n",
        "        loss, img = deepdream(img, run_steps, tf.constant(step_size)) # DeepDream 실행\n",
        "\n",
        "        display.clear_output(wait=True)\n",
        "        show(deprocess(img))\n",
        "        print (\"Step {}, loss {}\".format(step, loss))\n",
        "\n",
        "    # 최종 결과 출력\n",
        "    result = deprocess(img)\n",
        "    display.clear_output(wait=True)\n",
        "    show(result)\n",
        "\n",
        "    return result"
      ],
      "execution_count": null,
      "outputs": []
    },
    {
      "cell_type": "markdown",
      "metadata": {
        "id": "uO-0fSHOurRF",
        "colab_type": "text"
      },
      "source": [
        "#### DeepDream 실행 함수 호출"
      ]
    },
    {
      "cell_type": "code",
      "metadata": {
        "colab_type": "code",
        "id": "tEfd00rr0j8Z",
        "colab": {}
      },
      "source": [
        "dream_img = run_deep_dream_simple(img=original_img, \n",
        "                                  steps=100, step_size=0.01)"
      ],
      "execution_count": null,
      "outputs": []
    },
    {
      "cell_type": "markdown",
      "metadata": {
        "colab_type": "text",
        "id": "2PbfXEVFNbGp"
      },
      "source": [
        "## Multi-Scale Feature 생성"
      ]
    },
    {
      "cell_type": "code",
      "metadata": {
        "colab_type": "code",
        "id": "0eGDSdatLT-8",
        "colab": {}
      },
      "source": [
        "import time\n",
        "start = time.time()\n",
        "\n",
        "OCTAVE_SCALE = 1.30\n",
        "\n",
        "img = tf.constant(np.array(original_img))\n",
        "base_shape = tf.shape(img)[:-1]\n",
        "float_base_shape = tf.cast(base_shape, tf.float32)\n",
        "\n",
        "for n in range(-2, 3):\n",
        "    new_shape = tf.cast(float_base_shape*(OCTAVE_SCALE**n), tf.int32) # 옥타브 Scale의 새로운 크기 계산\n",
        "    img = tf.image.resize(img, new_shape).numpy() # 이미지 resize\n",
        "    img = run_deep_dream_simple(img=img, steps=50, step_size=0.01) # DeepDream 실행\n",
        "\n",
        "display.clear_output(wait=True)\n",
        "img = tf.image.resize(img, base_shape)\n",
        "img = tf.image.convert_image_dtype(img/255.0, dtype=tf.uint8)\n",
        "show(img)\n",
        "\n",
        "end = time.time()\n",
        "end-start"
      ],
      "execution_count": null,
      "outputs": []
    },
    {
      "cell_type": "markdown",
      "metadata": {
        "colab_type": "text",
        "id": "s9xqyeuwLZFy"
      },
      "source": [
        "## Tiling 방식의 이미지 생성 (Advanced)\n",
        "큰 이미지를 처리할 수 있도록 타일로 잘라서 처리하는 방식"
      ]
    },
    {
      "cell_type": "markdown",
      "metadata": {
        "id": "6wOBQV2JurRN",
        "colab_type": "text"
      },
      "source": [
        "#### 이미지 이동 : 좌우, 상하로 조금씩 이동시켜서 훈련 (Image Rolling)"
      ]
    },
    {
      "cell_type": "code",
      "metadata": {
        "colab_type": "code",
        "id": "oGgLHk7o80ac",
        "colab": {}
      },
      "source": [
        "def random_roll(img, maxroll):\n",
        "  # 타일 경계가 나타나지 않도록 이미지를 랜덤하게 이동\n",
        "  shift = tf.random.uniform(shape=[2], minval=-maxroll, maxval=maxroll, dtype=tf.int32)\n",
        "  shift_down, shift_right = shift[0],shift[1] \n",
        "  img_rolled = tf.roll(tf.roll(img, shift_right, axis=1), shift_down, axis=0)\n",
        "  return shift_down, shift_right, img_rolled"
      ],
      "execution_count": null,
      "outputs": []
    },
    {
      "cell_type": "code",
      "metadata": {
        "colab_type": "code",
        "id": "sKsiqWfA9H41",
        "colab": {}
      },
      "source": [
        "shift_down, shift_right, img_rolled = random_roll(np.array(original_img), 512)\n",
        "show(img_rolled)"
      ],
      "execution_count": null,
      "outputs": []
    },
    {
      "cell_type": "markdown",
      "metadata": {
        "id": "bmoWCC8zurRV",
        "colab_type": "text"
      },
      "source": [
        "#### 타일 방식의 그래디언트 계산"
      ]
    },
    {
      "cell_type": "code",
      "metadata": {
        "colab_type": "code",
        "id": "x__TZ0uqNbGm",
        "colab": {}
      },
      "source": [
        "class TiledGradients(tf.Module):\n",
        "  def __init__(self, model):\n",
        "    self.model = model\n",
        "\n",
        "  @tf.function(\n",
        "      input_signature=(\n",
        "        tf.TensorSpec(shape=[None,None,3], dtype=tf.float32),\n",
        "        tf.TensorSpec(shape=[], dtype=tf.int32),)\n",
        "  )\n",
        "  def __call__(self, img, tile_size=512):\n",
        "    shift_down, shift_right, img_rolled = random_roll(img, tile_size)\n",
        "\n",
        "    # Initialize the image gradients to zero.\n",
        "    gradients = tf.zeros_like(img_rolled)\n",
        "    \n",
        "    # 마지막 타일은 skip, (단, 타일이 1개인 경우는 제외) \n",
        "    xs = tf.range(0, img_rolled.shape[0], tile_size)[:-1] #  가로 방향의 타일 개수\n",
        "    if not tf.cast(len(xs), bool): xs = tf.constant([0])\n",
        "    ys = tf.range(0, img_rolled.shape[1], tile_size)[:-1] #  세로 방향의 타일 개수\n",
        "    if not tf.cast(len(ys), bool): ys = tf.constant([0])\n",
        "\n",
        "    # 타일 별로 그래디언트 계산\n",
        "    for x in xs:\n",
        "      for y in ys:\n",
        "        with tf.GradientTape() as tape:\n",
        "          tape.watch(img_rolled) # 이미지에 대해서 그래디언트 계산이 되도록 watch 처리\n",
        "\n",
        "          #이미지에서 타일을 추출한 후 loss 계산\n",
        "          img_tile = img_rolled[x:x+tile_size, y:y+tile_size]\n",
        "          loss = calc_loss(img_tile, self.model)\n",
        "\n",
        "        # 타일에 대해 Gradient Ascent\n",
        "        gradients = gradients + tape.gradient(loss, img_rolled)\n",
        "\n",
        "    # 그래디언트를 이미지 이동 전으로 위치로 복구\n",
        "    gradients = tf.roll(tf.roll(gradients, -shift_right, axis=1), -shift_down, axis=0)\n",
        "\n",
        "    # 그래디언트 정규화\n",
        "    gradients /= tf.math.reduce_std(gradients) + 1e-8 \n",
        "\n",
        "    return gradients "
      ],
      "execution_count": null,
      "outputs": []
    },
    {
      "cell_type": "code",
      "metadata": {
        "colab_type": "code",
        "id": "Vcq4GubA2e5J",
        "colab": {}
      },
      "source": [
        "get_tiled_gradients = TiledGradients(dream_model)"
      ],
      "execution_count": null,
      "outputs": []
    },
    {
      "cell_type": "markdown",
      "metadata": {
        "colab_type": "text",
        "id": "hYnTTs_qiaND"
      },
      "source": [
        "#### 옥타브 스케일링 + 타일링 방식으로 이미지 생성"
      ]
    },
    {
      "cell_type": "code",
      "metadata": {
        "colab_type": "code",
        "id": "gA-15DM4NbGk",
        "colab": {}
      },
      "source": [
        "def run_deep_dream_with_octaves(img, steps_per_octave=100, step_size=0.01, \n",
        "                                octaves=range(-2,3), octave_scale=1.3):\n",
        "    base_shape = tf.shape(img)\n",
        "    # img = tf.keras.preprocessing.image.img_to_array(img)\n",
        "    img = tf.keras.applications.inception_v3.preprocess_input(img)\n",
        "\n",
        "    initial_shape = img.shape[:-1]\n",
        "    img = tf.image.resize(img, initial_shape)\n",
        "    for octave in octaves:\n",
        "        # 옥타브 Scale의 새로운 크기 계산\n",
        "        new_size = tf.cast(tf.convert_to_tensor(base_shape[:-1]), tf.float32)*(octave_scale**octave)\n",
        "        img = tf.image.resize(img, tf.cast(new_size, tf.int32)) # 이미지 resize\n",
        "\n",
        "        for step in range(steps_per_octave):\n",
        "            gradients = get_tiled_gradients(img)  # 타일 방식의 그래디언트 계산\n",
        "            img = img + gradients*step_size       # 이미지에 대해 Gradient Ascent\n",
        "            img = tf.clip_by_value(img, -1, 1)    # pixel 값 clipping\n",
        "\n",
        "            # 10번 마다 화면에 이미지 출력\n",
        "            if step % 10 == 0:\n",
        "                display.clear_output(wait=True)\n",
        "                show(deprocess(img))\n",
        "                print (\"Octave {}, Step {}\".format(octave, step))\n",
        "\n",
        "    result = deprocess(img)\n",
        "    return result"
      ],
      "execution_count": null,
      "outputs": []
    },
    {
      "cell_type": "code",
      "metadata": {
        "colab_type": "code",
        "id": "T7PbRLV74RrU",
        "colab": {}
      },
      "source": [
        "img = run_deep_dream_with_octaves(img=original_img, step_size=0.01)\n",
        "\n",
        "display.clear_output(wait=True)\n",
        "base_shape = tf.shape(original_img)[:-1]\n",
        "img = tf.image.resize(img, base_shape)\n",
        "img = tf.image.convert_image_dtype(img/255.0, dtype=tf.uint8)\n",
        "show(img)"
      ],
      "execution_count": null,
      "outputs": []
    }
  ]
}