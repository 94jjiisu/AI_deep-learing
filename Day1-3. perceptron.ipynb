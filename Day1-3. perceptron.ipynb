{
 "cells": [
  {
   "cell_type": "markdown",
   "metadata": {
    "colab_type": "text",
    "id": "dUSsxNSK6cJR"
   },
   "source": [
    "#### Numpy로 퍼셉트론을 구현해보자.\n",
    "\n",
    "*   퍼셉트론으로 AND, NAND, OR 연산 구현해보도록 합니다.\n",
    "*   다층 퍼셉트론으로 XOR 연산 구현해보도록 합니다.\n",
    "*   본 코드는 '밑바닥부터 시작하는 딥러닝' 2장 예제 코드 입니다."
   ]
  },
  {
   "cell_type": "code",
   "execution_count": null,
   "metadata": {
    "colab": {},
    "colab_type": "code",
    "id": "OgJruQd06arZ"
   },
   "outputs": [],
   "source": [
    "import numpy as np"
   ]
  },
  {
   "cell_type": "markdown",
   "metadata": {
    "colab_type": "text",
    "id": "6hRgKCVv6JJy"
   },
   "source": [
    "#### AND 연산 퍼셉트론 구현"
   ]
  },
  {
   "cell_type": "code",
   "execution_count": null,
   "metadata": {
    "colab": {
     "base_uri": "https://localhost:8080/",
     "height": 91
    },
    "colab_type": "code",
    "executionInfo": {
     "elapsed": 834,
     "status": "ok",
     "timestamp": 1593404285389,
     "user": {
      "displayName": "Seongjin Yoon",
      "photoUrl": "",
      "userId": "05896535080749314531"
     },
     "user_tz": -540
    },
    "id": "lR15ICZ46H9c",
    "outputId": "ca7aaa97-c616-41f8-a23a-3946fbd6c5b9"
   },
   "outputs": [],
   "source": [
    "def AND(x1, x2):\n",
    "    x = np.array([x1, x2])\n",
    "    w = np.array([0.5, 0.5])\n",
    "    b = -0.7\n",
    "    tmp =  np.sum(w * x) + b\n",
    "    if tmp <= 0:\n",
    "        return 0\n",
    "    else:\n",
    "        return 1\n",
    "    \n",
    "for xs in [(0, 0), (1, 0), (0, 1), (1, 1)]:\n",
    "    y = AND(xs[0], xs[1])\n",
    "    print(str(xs) + \" -> \" + str(y))"
   ]
  },
  {
   "cell_type": "markdown",
   "metadata": {
    "colab_type": "text",
    "id": "aM2XMs9x5zKl"
   },
   "source": [
    "#### NAND 연산 퍼셉트론 구현"
   ]
  },
  {
   "cell_type": "code",
   "execution_count": null,
   "metadata": {
    "colab": {
     "base_uri": "https://localhost:8080/",
     "height": 91
    },
    "colab_type": "code",
    "executionInfo": {
     "elapsed": 1329,
     "status": "ok",
     "timestamp": 1593397636304,
     "user": {
      "displayName": "Seongjin Yoon",
      "photoUrl": "",
      "userId": "05896535080749314531"
     },
     "user_tz": -540
    },
    "id": "E9CUg1-r5exE",
    "outputId": "485d3e79-5f2c-4479-9be2-12e975cadf8e"
   },
   "outputs": [],
   "source": [
    "def NAND(x1, x2):\n",
    "    x = np.array([x1, x2])\n",
    "    w = np.array([-0.5, -0.5])\n",
    "    b = 0.7\n",
    "    tmp =  np.sum(w * x) + b\n",
    "    if tmp <= 0:\n",
    "        return 0\n",
    "    else:\n",
    "        return 1\n",
    "    \n",
    "for xs in [(0, 0), (1, 0), (0, 1), (1, 1)]:\n",
    "    y = NAND(xs[0], xs[1])\n",
    "    print(str(xs) + \" -> \" + str(y))"
   ]
  },
  {
   "cell_type": "markdown",
   "metadata": {
    "colab_type": "text",
    "id": "ZMYtdgdO540L"
   },
   "source": [
    "#### OR 연산 퍼셉트론 구현"
   ]
  },
  {
   "cell_type": "code",
   "execution_count": null,
   "metadata": {
    "colab": {
     "base_uri": "https://localhost:8080/",
     "height": 91
    },
    "colab_type": "code",
    "executionInfo": {
     "elapsed": 1543,
     "status": "ok",
     "timestamp": 1593397640534,
     "user": {
      "displayName": "Seongjin Yoon",
      "photoUrl": "",
      "userId": "05896535080749314531"
     },
     "user_tz": -540
    },
    "id": "kgvr7fqx5exH",
    "outputId": "8bfb7563-adb3-4090-9a73-9094583ccbc1"
   },
   "outputs": [],
   "source": [
    "def OR(x1, x2):\n",
    "    x = np.array([x1, x2])\n",
    "    w = np.array([0.7, 0.7])\n",
    "    b = -0.5\n",
    "    tmp =  np.sum(w * x) + b\n",
    "    if tmp <= 0:\n",
    "        return 0\n",
    "    else:\n",
    "        return 1\n",
    "    \n",
    "for xs in [(0, 0), (1, 0), (0, 1), (1, 1)]:\n",
    "    y = OR(xs[0], xs[1])\n",
    "    print(str(xs) + \" -> \" + str(y))"
   ]
  },
  {
   "cell_type": "markdown",
   "metadata": {
    "colab_type": "text",
    "id": "i3R9-5Ug57hq"
   },
   "source": [
    "#### XOR 연산 다층 퍼셉트론 구현"
   ]
  },
  {
   "cell_type": "code",
   "execution_count": null,
   "metadata": {
    "colab": {
     "base_uri": "https://localhost:8080/",
     "height": 110
    },
    "colab_type": "code",
    "executionInfo": {
     "elapsed": 890,
     "status": "ok",
     "timestamp": 1593407408714,
     "user": {
      "displayName": "Seongjin Yoon",
      "photoUrl": "",
      "userId": "05896535080749314531"
     },
     "user_tz": -540
    },
    "id": "fm9DNz9R5exK",
    "outputId": "f904c506-2798-4e44-8407-52c866e75937"
   },
   "outputs": [],
   "source": [
    "def XOR(x1, x2):\n",
    "    s1 = NAND(x1, x2)\n",
    "    s2 = OR(x1, x2)\n",
    "    y = AND(s1, s2)\n",
    "    return y\n",
    "\n",
    "print(\"NAND, OR, AND\")\n",
    "for xs in [(0, 0), (1, 0), (0, 1), (1, 1)]:\n",
    "    y = XOR(xs[0], xs[1])\n",
    "    print(str(xs) + \" -> \" + str(y))"
   ]
  }
 ],
 "metadata": {
  "colab": {
   "collapsed_sections": [],
   "name": "실습1. perceptron",
   "provenance": []
  },
  "kernelspec": {
   "name": "tesorflow2.0",
   "language": "python",
   "display_name": "TensorFlow CPU"
  },
  "language_info": {
   "codemirror_mode": {
    "name": "ipython",
    "version": 3
   },
   "file_extension": ".py",
   "mimetype": "text/x-python",
   "name": "python",
   "nbconvert_exporter": "python",
   "pygments_lexer": "ipython3",
   "version": "3.7.4"
  }
 },
 "nbformat": 4,
 "nbformat_minor": 1
}