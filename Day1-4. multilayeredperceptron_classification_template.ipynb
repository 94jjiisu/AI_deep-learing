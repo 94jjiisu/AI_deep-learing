{
 "cells": [
  {
   "cell_type": "markdown",
   "metadata": {},
   "source": [
    "## DNN Classification Forward Pass 구현"
   ]
  },
  {
   "cell_type": "markdown",
   "metadata": {},
   "source": [
    "###  라이브러리 임포트"
   ]
  },
  {
   "cell_type": "code",
   "execution_count": null,
   "metadata": {},
   "outputs": [],
   "source": [
    "import numpy as np\n",
    "import matplotlib.pyplot as plt"
   ]
  },
  {
   "cell_type": "markdown",
   "metadata": {},
   "source": [
    "#### Q. Activation Function을 정의하시오"
   ]
  },
  {
   "cell_type": "code",
   "execution_count": null,
   "metadata": {},
   "outputs": [],
   "source": [
    "def activation(n):\n",
    "    # your code\n",
    "    return x"
   ]
  },
  {
   "cell_type": "markdown",
   "metadata": {},
   "source": [
    "#### Q. 가중치와 편향을 정의하시오"
   ]
  },
  {
   "cell_type": "code",
   "execution_count": null,
   "metadata": {},
   "outputs": [],
   "source": [
    " # W1, W2, W3, b1, b2, b3를 정의하시오.\n",
    "W1 = np.array([[1, -1, 1, -1, 1, -1, 1, -1, -1, 1, 1],\n",
    "               [1, -1, -1, 1, -1, 1, -1, 1, -1, 1, 1]]\n",
    "              , float).transpose()\n",
    "b1 = # your code\n",
    "W2 = # your code\n",
    "b2 = # your code\n",
    "W3 = # your code\n",
    "b3 = # your code"
   ]
  },
  {
   "cell_type": "markdown",
   "metadata": {},
   "source": [
    "#### Q. Forward Pass를 구현하시오."
   ]
  },
  {
   "cell_type": "code",
   "execution_count": null,
   "metadata": {},
   "outputs": [],
   "source": [
    "x_precision = 50\n",
    "y_precision = 30\n",
    "for i in range(x_precision):\n",
    "    for j in range(y_precision):\n",
    "        x=i/x_precision*5\n",
    "        y=j/y_precision*3\n",
    "\n",
    "        custom = np.array([x,y], float).transpose()\n",
    "        \n",
    "        # forward pass를 구현하시오 (Hint : np.dot 사용)\n",
    "        a1 = # your code\n",
    "        a2 = # your code\n",
    "        a3 = # your code\n",
    "        if a3==1:\n",
    "             plt.plot(x,y,'o',mec='k',mfc='k',ms=8)\n",
    "        else :\n",
    "             plt.plot(x,y,'o',mec='k',mfc='w',ms=8)"
   ]
  }
 ],
 "metadata": {
  "kernelspec": {
   "display_name": "TensorFlow CPU",
   "language": "python",
   "name": "tesorflow2.0"
  },
  "language_info": {
   "codemirror_mode": {
    "name": "ipython",
    "version": 3
   },
   "file_extension": ".py",
   "mimetype": "text/x-python",
   "name": "python",
   "nbconvert_exporter": "python",
   "pygments_lexer": "ipython3",
   "version": "3.7.6"
  }
 },
 "nbformat": 4,
 "nbformat_minor": 2
}
